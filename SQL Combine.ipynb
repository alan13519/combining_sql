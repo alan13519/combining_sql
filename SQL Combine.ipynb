{
 "cells": [
  {
   "cell_type": "code",
   "execution_count": 1,
   "metadata": {},
   "outputs": [],
   "source": [
    "# Very early iteration of SQL combination, below is an example"
   ]
  },
  {
   "cell_type": "code",
   "execution_count": 2,
   "metadata": {},
   "outputs": [],
   "source": [
    "def get_operator(string):\n",
    "    if '>' in string:\n",
    "        operator = '>'\n",
    "    elif '<' in string:\n",
    "        operator = '<'\n",
    "    elif '!=' in string:\n",
    "        operator = '!='\n",
    "    elif '=' in string:\n",
    "        operator = '='\n",
    "    elif ' is not ' in string.lower():\n",
    "        operator = 'is not'\n",
    "    elif ' is ' in string.lower():\n",
    "        operator = 'is'\n",
    "    return operator\n",
    "\n",
    "sqls = [\"\"\"\n",
    "SELECT * FROM table\n",
    "WHERE (numberoflms < 2 OR numberoflms is NULL)\n",
    "AND lmpath = '1'\n",
    "AND covid_requested = '1'\n",
    "AND lm_account = '1'\n",
    "AND covid_offered_dt is NULL\n",
    "\"\"\",\n",
    "\"\"\"\n",
    "SELECT * FROM table\n",
    "WHERE (numberoflms >= 2)\n",
    "AND lmpath = '1'\n",
    "AND covid_requested != '1'\n",
    "AND lm_account = '0'\n",
    "AND covid_offered_dt is NOT NULL\n",
    "\"\"\",\n",
    "\"\"\"\n",
    "SELECT * FROM table\n",
    "WHERE (numberoflms >= 2)\n",
    "AND lmpath = '1'\n",
    "AND covid_requested != '0'\n",
    "AND lm_account = '0'\n",
    "AND covid_offered_dt is NULL\n",
    "\"\"\"]\n",
    "union_dict = dict()\n",
    "\n",
    "for sql in sqls:\n",
    "    sql_statement = \"WHERE\" + sql.split('WHERE')[1]\n",
    "    \n",
    "    for i in (\"AND\" + sql_statement.split(\"WHERE\")[1]).split(\"AND\")[1:]:\n",
    "        i = i.replace('(', '').replace(')','').replace('\\n', '')\n",
    "        if 'or' in i.lower():\n",
    "            for or_statement in i.replace('(', '').replace(')','').lower().split('or'):\n",
    "                operator = get_operator(or_statement).strip()\n",
    "                column = or_statement.lower().split(operator)[0].strip()\n",
    "                value = or_statement.lower().replace(\"'\", '').split(operator)[-1].strip()\n",
    "                if column not in union_dict.keys():\n",
    "                    union_dict[column] = {operator: [value]}\n",
    "                else:\n",
    "                    if operator not in union_dict[column].keys():\n",
    "                        union_dict[column][operator] = [value]\n",
    "                    else:\n",
    "                        union_dict[column][operator].append(value)\n",
    "        else:\n",
    "            operator = get_operator(i).strip()\n",
    "            column = i.lower().split(operator)[0].strip()\n",
    "            value = i.lower().replace(\"'\", '').split(operator)[-1].strip()\n",
    "            if column not in union_dict.keys():\n",
    "                union_dict[column] = {operator: [value]}\n",
    "            else:\n",
    "                if operator not in union_dict[column].keys():\n",
    "                    union_dict[column][operator] = [value]\n",
    "                else:\n",
    "                    union_dict[column][operator].append(value)"
   ]
  },
  {
   "cell_type": "code",
   "execution_count": 3,
   "metadata": {},
   "outputs": [
    {
     "data": {
      "text/plain": [
       "{'numberoflms': {'<': ['2'], 'is': ['null'], '>': ['= 2', '= 2']},\n",
       " 'lmpath': {'=': ['1', '1', '1']},\n",
       " 'covid_requested': {'=': ['1'], '!=': ['1', '0']},\n",
       " 'lm_account': {'=': ['1', '0', '0']},\n",
       " 'covid_offered_dt': {'is': ['null', 'null'], 'is not': ['null']}}"
      ]
     },
     "execution_count": 3,
     "metadata": {},
     "output_type": "execute_result"
    }
   ],
   "source": [
    "union_dict"
   ]
  },
  {
   "cell_type": "code",
   "execution_count": 4,
   "metadata": {},
   "outputs": [],
   "source": [
    "# Make it unique\n",
    "for col in union_dict.keys():\n",
    "    for op in union_dict[col].keys():\n",
    "        union_dict[col][op] = list(set(union_dict[col][op]))\n",
    "        \n",
    "new_sql = \"WHERE \"\n",
    "num_left = len(union_dict.keys())\n",
    "for column in union_dict.keys():\n",
    "    \n",
    "    multiple_ops = 0\n",
    "    if len(union_dict[column].keys()) > 1:\n",
    "        multiple_ops = len(union_dict[column].keys())\n",
    "    \n",
    "    open_brackets = False\n",
    "    \n",
    "    if multiple_ops > 1:\n",
    "        new_sql += '('\n",
    "        open_brackets = True\n",
    "         \n",
    "    for operator in union_dict[column].keys():\n",
    "        value = union_dict[column][operator]\n",
    "        \n",
    "        if len(value) == 1:\n",
    "            value = value[0]\n",
    "            new_sql += ''.join([column, ' ', operator, ' ', value])\n",
    "        else:\n",
    "            value_len = len(value)\n",
    "            new_sql += '('\n",
    "            for val in value:\n",
    "                new_sql += ''.join([column, ' ', operator, ' ', val])\n",
    "                if value_len > 1:\n",
    "                    new_sql += ' OR '\n",
    "                    value_len -= 1\n",
    "            new_sql += ')'\n",
    "        if multiple_ops > 1:\n",
    "            new_sql += ' OR '\n",
    "            multiple_ops -= 1\n",
    "    if open_brackets:        \n",
    "        new_sql += ')'\n",
    "    \n",
    "    num_left -= 1\n",
    "    if num_left != 0:\n",
    "        new_sql += '\\nAND '\n",
    "new_sql = new_sql.replace(\"null\", 'NULL')"
   ]
  },
  {
   "cell_type": "code",
   "execution_count": 6,
   "metadata": {},
   "outputs": [
    {
     "name": "stdout",
     "output_type": "stream",
     "text": [
      "\n",
      "SELECT * FROM table\n",
      "WHERE (numberoflms < 2 OR numberoflms is NULL OR numberoflms > = 2)\n",
      "AND lmpath = 1\n",
      "AND (covid_requested = 1 OR (covid_requested != 0 OR covid_requested != 1))\n",
      "AND (lm_account = 0 OR lm_account = 1)\n",
      "AND (covid_offered_dt is NULL OR covid_offered_dt is not NULL)\n"
     ]
    }
   ],
   "source": [
    "print(sql.split('WHERE')[0]+new_sql)"
   ]
  },
  {
   "cell_type": "code",
   "execution_count": null,
   "metadata": {},
   "outputs": [],
   "source": []
  }
 ],
 "metadata": {
  "kernelspec": {
   "display_name": "Python 3",
   "language": "python",
   "name": "python3"
  },
  "language_info": {
   "codemirror_mode": {
    "name": "ipython",
    "version": 3
   },
   "file_extension": ".py",
   "mimetype": "text/x-python",
   "name": "python",
   "nbconvert_exporter": "python",
   "pygments_lexer": "ipython3",
   "version": "3.6.5"
  }
 },
 "nbformat": 4,
 "nbformat_minor": 2
}
